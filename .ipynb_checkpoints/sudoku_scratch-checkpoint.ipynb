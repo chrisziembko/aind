{
 "cells": [
  {
   "cell_type": "code",
   "execution_count": 1,
   "metadata": {
    "collapsed": true
   },
   "outputs": [],
   "source": [
    "import csv"
   ]
  },
  {
   "cell_type": "code",
   "execution_count": 5,
   "metadata": {},
   "outputs": [],
   "source": [
    "rows = []\n",
    "with open('sudoku_solution.csv', 'r') as f:\n",
    "    reader = csv.reader(f)\n",
    "    for row in reader:\n",
    "        rows.append(row)"
   ]
  },
  {
   "cell_type": "code",
   "execution_count": 6,
   "metadata": {},
   "outputs": [
    {
     "data": {
      "text/plain": [
       "[['4', '8', '3', '9', '2', '1', '6', '5', '7'],\n",
       " ['9', '6', '7', '3', '4', '5', '8', '2', '1'],\n",
       " ['2', '5', '1', '8', '7', '6', '4', '9', '3'],\n",
       " ['5', '4', '8', '1', '3', '2', '9', '7', '6'],\n",
       " ['7', '2', '9', '5', '6', '4', '1', '3', '8'],\n",
       " ['1', '3', '6', '7', '9', '8', '2', '4', '5'],\n",
       " ['3', '7', '2', '6', '8', '9', '5', '1', '4'],\n",
       " ['8', '1', '4', '2', '5', '3', '7', '6', '9'],\n",
       " ['6', '9', '5', '4', '1', '7', '3', '8', '2']]"
      ]
     },
     "execution_count": 6,
     "metadata": {},
     "output_type": "execute_result"
    }
   ],
   "source": [
    "rows"
   ]
  },
  {
   "cell_type": "code",
   "execution_count": 14,
   "metadata": {},
   "outputs": [
    {
     "name": "stdout",
     "output_type": "stream",
     "text": [
      "483921657, 967345821, 251876493, 548132976, 729564138, 136798245, 372689514, 814253769, 695417382\n"
     ]
    }
   ],
   "source": [
    "print(\", \".join([\"\".join(row) for row in rows]))"
   ]
  },
  {
   "cell_type": "code",
   "execution_count": 15,
   "metadata": {
    "collapsed": true
   },
   "outputs": [],
   "source": [
    "import sys"
   ]
  },
  {
   "cell_type": "code",
   "execution_count": null,
   "metadata": {
    "collapsed": true
   },
   "outputs": [],
   "source": []
  },
  {
   "cell_type": "code",
   "execution_count": 13,
   "metadata": {},
   "outputs": [
    {
     "data": {
      "text/plain": [
       "'483921657, 967345821, 251876493, 548132976, 729564138, 136798245, 372689514, 814253769, 695417382'"
      ]
     },
     "execution_count": 13,
     "metadata": {},
     "output_type": "execute_result"
    }
   ],
   "source": [
    "\", \".join([\"\".join(row) for row in rows])"
   ]
  },
  {
   "cell_type": "code",
   "execution_count": null,
   "metadata": {
    "collapsed": true
   },
   "outputs": [],
   "source": []
  }
 ],
 "metadata": {
  "kernelspec": {
   "display_name": "Python 2",
   "language": "python",
   "name": "python2"
  },
  "language_info": {
   "codemirror_mode": {
    "name": "ipython",
    "version": 3
   },
   "file_extension": ".py",
   "mimetype": "text/x-python",
   "name": "python",
   "nbconvert_exporter": "python",
   "pygments_lexer": "ipython3",
   "version": "3.6.2"
  }
 },
 "nbformat": 4,
 "nbformat_minor": 2
}
